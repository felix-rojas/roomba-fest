{
  "cells": [
    {
      "cell_type": "markdown",
      "metadata": {
        "id": "view-in-github",
        "colab_type": "text"
      },
      "source": [
        "<a href=\"https://colab.research.google.com/github/felix-rojas/roomba-fest/blob/main/Reto_multiagentes.ipynb\" target=\"_parent\"><img src=\"https://colab.research.google.com/assets/colab-badge.svg\" alt=\"Open In Colab\"/></a>"
      ]
    },
    {
      "cell_type": "code",
      "source": [
        "dependencies = [\"mesa\", \"numpy\", \"pandas\"]"
      ],
      "metadata": {
        "id": "RLEMmIdyXuGB"
      },
      "execution_count": null,
      "outputs": []
    },
    {
      "cell_type": "code",
      "execution_count": null,
      "metadata": {
        "id": "ZtdNXFnAS8eV",
        "colab": {
          "base_uri": "https://localhost:8080/"
        },
        "outputId": "78d3913d-65a5-4ee9-ba69-3529fd427f40"
      },
      "outputs": [
        {
          "output_type": "stream",
          "name": "stdout",
          "text": [
            "mesa is not installed, installing now...\n"
          ]
        }
      ],
      "source": [
        "  import importlib\n",
        "  import subprocess\n",
        "  import sys\n",
        "\n",
        "  def install_and_import(package):\n",
        "      try:\n",
        "          importlib.import_module(package)\n",
        "          print(f\"{package} is already installed\")\n",
        "      except ImportError:\n",
        "          print(f\"{package} is not installed, installing now...\")\n",
        "          subprocess.check_call([sys.executable, \"-m\", \"pip\", \"install\", package])\n",
        "          print(f\"{package} has been installed\")\n",
        "\n",
        "  for package in dependencies:\n",
        "      install_and_import(package)"
      ]
    },
    {
      "cell_type": "code",
      "execution_count": null,
      "metadata": {
        "id": "Bi8snGOITPIU"
      },
      "outputs": [],
      "source": [
        "# Importamos las clases que se requieren para manejar los agentes (Agent) y su entorno (Model).\n",
        "# Cada modelo puede contener múltiples agentes.\n",
        "from mesa import Agent, Model\n",
        "\n",
        "# Debido a que necesitamos que exista más de un agente por celda, elegimos ''MultiGrid''.\n",
        "from mesa.space import MultiGrid\n",
        "\n",
        "# Con ''RandomActivation'', hacemos que todos los agentes se activen ''al mismo tiempo''.\n",
        "from mesa.time import RandomActivation\n",
        "\n",
        "# Haremos uso de ''DataCollector'' para obtener información de cada paso de la simulación.\n",
        "from mesa.datacollection import DataCollector\n",
        "\n",
        "# matplotlib lo usaremos crear una animación de cada uno de los pasos del modelo.\n",
        "%matplotlib inline\n",
        "import matplotlib\n",
        "import matplotlib.pyplot as plt\n",
        "from matplotlib.colors import ListedColormap\n",
        "import matplotlib.animation as animation\n",
        "plt.rcParams[\"animation.html\"] = \"jshtml\"\n",
        "matplotlib.rcParams['animation.embed_limit'] = 2**128\n",
        "\n",
        "# Importamos los siguientes paquetes para el mejor manejo de valores numéricos.\n",
        "import numpy as np\n",
        "import pandas as pd\n",
        "\n",
        "# Definimos otros paquetes que vamos a usar para medir el tiempo de ejecución de nuestro algoritmo.\n",
        "import time\n",
        "import datetime\n",
        "import random\n",
        "import heapq\n",
        "MAXVAL = 10000"
      ]
    },
    {
      "cell_type": "code",
      "source": [
        "%%writefile grid.txt\n",
        "6 5\n",
        "0 4 X 6 0\n",
        "6 X 0 X 4\n",
        "0 X 7 X 0\n",
        "5 0 0 X 8\n",
        "0 0 X 0 0\n",
        "0 0 0 0 P"
      ],
      "metadata": {
        "id": "t_1y7QfeRSXZ"
      },
      "execution_count": null,
      "outputs": []
    },
    {
      "cell_type": "code",
      "source": [
        "file_name = 'grid.txt'\n",
        "\n",
        "def leer_grid(nombre_archivo):\n",
        "  with open(nombre_archivo, 'r') as archivo:\n",
        "    lineas = archivo.readlines()\n",
        "    n, m = map(int, lineas[0].split())\n",
        "    oficina = []\n",
        "    papelera_pos = None\n",
        "    for i in range(1, n + 1):\n",
        "      fila = lineas[i].strip().split()\n",
        "      oficina.append(fila)\n",
        "      if 'P' in fila:\n",
        "        papelera_pos = (i - 1, fila.index('P'))\n",
        "    return oficina, papelera_pos, n, m\n",
        "\n",
        "# Llama a la función para leer el archivo\n",
        "oficina, papelera_pos, alto, ancho = leer_grid(file_name)\n",
        "print(oficina)\n",
        "print(papelera_pos)"
      ],
      "metadata": {
        "id": "czWlTotHsPVj"
      },
      "execution_count": null,
      "outputs": []
    },
    {
      "cell_type": "code",
      "execution_count": null,
      "metadata": {
        "id": "mW7Kmq5v0R4F"
      },
      "outputs": [],
      "source": [
        "class Basura(Agent):\n",
        "    def __init__(self, unique_id, model, cantidad):\n",
        "        super().__init__(unique_id, model)\n",
        "        self.qty = cantidad\n",
        "        self.agents_on_top = model.grid.get_cell_list_contents([self.pos])\n",
        "\n",
        "    def notify(self, AgenteRobot):\n",
        "        AgenteRobot.clean()\n",
        "\n",
        "    def step(self):\n",
        "        has_agent =  len(self.agents_on_top) > 1\n",
        "        if (has_agent):\n",
        "            for agent in self.agents_on_top:\n",
        "                if isinstance(agent, AgenteRobot):\n",
        "                    self.notify(agent)"
      ]
    },
    {
      "cell_type": "code",
      "execution_count": null,
      "metadata": {
        "id": "w5hWLQL0ghC3"
      },
      "outputs": [],
      "source": [
        "class Obstaculo(Agent):\n",
        "    def __init__(self, unique_id, model):\n",
        "        super().__init__(unique_id, model)"
      ]
    },
    {
      "cell_type": "code",
      "execution_count": null,
      "metadata": {
        "id": "bzzEyDKW0TpY"
      },
      "outputs": [],
      "source": [
        "class Papelera(Agent):\n",
        "    def __init__(self, unique_id, model):\n",
        "        super().__init__(unique_id, model)\n",
        "        self.position = self.pos"
      ]
    },
    {
      "cell_type": "code",
      "source": [
        "def NewShuffle(arr):\n",
        "  mutable_arr = [list(item) for item in arr]\n",
        "  n = len(mutable_arr)\n",
        "  for i in range(n - 1, 0, -1):\n",
        "    j = np.random.randint(0, i)\n",
        "    mutable_arr[i], mutable_arr[j] = mutable_arr[j], mutable_arr[i]\n",
        "\n",
        "  # Convertir de nuevo a lista de tuplas\n",
        "  return [tuple(item) for item in mutable_arr]"
      ],
      "metadata": {
        "id": "6c0Uus0Vbswd"
      },
      "execution_count": null,
      "outputs": []
    },
    {
      "cell_type": "code",
      "source": [
        "def reconstruct_path(came_from, current):\n",
        "    total_path = [current]\n",
        "    while current in came_from:\n",
        "        current = came_from[current]\n",
        "        if current:\n",
        "            total_path.append(current)\n",
        "    total_path.reverse()\n",
        "    return total_path\n",
        "\n",
        "def heuristic(a, b):\n",
        "    return abs(a[0] - b[0]) + abs(a[1] - b[1])\n",
        "\n",
        "def a_star_search(grid, start, goal):\n",
        "    open_list = []\n",
        "    heapq.heappush(open_list, (0, start))\n",
        "    came_from = {start: None}\n",
        "    g_score = {start: 0}\n",
        "    f_score = {start: heuristic(start, goal)}\n",
        "    while open_list:\n",
        "      _, current = heapq.heappop(open_list)\n",
        "      if current == goal:\n",
        "        return reconstruct_path(came_from, current)\n",
        "      neighbors = grid.get_neighborhood(current, moore=True, include_center=False)\n",
        "      for neighbor in neighbors:\n",
        "        if grid.out_of_bounds(neighbor):\n",
        "          continue\n",
        "        cell_contents = grid.get_cell_list_contents(neighbor)\n",
        "        if any(isinstance(obj, Obstaculo) for obj in cell_contents):\n",
        "          continue\n",
        "        tentative_g_score = g_score[current] + 1\n",
        "        if neighbor not in g_score or tentative_g_score < g_score[neighbor]:\n",
        "          came_from[neighbor] = current\n",
        "          g_score[neighbor] = tentative_g_score\n",
        "          f_score[neighbor] = tentative_g_score + heuristic(neighbor, goal)\n",
        "          heapq.heappush(open_list, (f_score[neighbor], neighbor))\n",
        "\n",
        "    return None  # No se encontró ningún camino"
      ],
      "metadata": {
        "id": "2EApdsUxi-m1"
      },
      "execution_count": null,
      "outputs": []
    },
    {
      "cell_type": "code",
      "execution_count": null,
      "metadata": {
        "id": "8-iHX3pETdom"
      },
      "outputs": [],
      "source": [
        "#Nombre: AgenteRobot.\n",
        "#Parametros: Ninguno.\n",
        "#Return: Nada.\n",
        "#Se encarga de servir como base para crear agentes de tipo aspiradora.\n",
        "class AgenteRobot(Agent):\n",
        "  def __init__(self, id, model):\n",
        "    super().__init__(id, model)\n",
        "    self.capacity = 5\n",
        "    self.carrying = 0\n",
        "    self.papeleraPos = papelera_pos\n",
        "    self.returning = False\n",
        "    self.path_to_papelera = []\n",
        "\n",
        "  def clean(self):\n",
        "    cell_contents = self.model.grid.get_cell_list_contents([self.pos])\n",
        "    trash_in_cell = [obj for obj in cell_contents if isinstance(obj, Basura)]\n",
        "    trash_count = len(trash_in_cell)\n",
        "    if trash_count > 0:\n",
        "      if trash_count <= (self.capacity - self.carrying):\n",
        "        to_collect = trash_in_cell\n",
        "      else:\n",
        "        to_collect = trash_in_cell[:self.capacity - self.carrying]\n",
        "      for trash in to_collect:\n",
        "        self.model.grid.remove_agent(trash)\n",
        "        self.carrying += 1\n",
        "        print(f\"Robot {self.unique_id} recogió basura en {self.pos}. Almacenamiento: {self.carrying}/{self.capacity}\")\n",
        "\n",
        "  def empty(self):\n",
        "    self.carrying = 0\n",
        "    self.returning = False\n",
        "    print(f\"Robot {self.unique_id} vació su contenido en la papelera.\")\n",
        "\n",
        "  def find_path_to_papelera(self):\n",
        "    self.path_to_papelera = a_star_search(self.model.grid, self.pos, self.papeleraPos)\n",
        "    if self.path_to_papelera:\n",
        "      self.path_to_papelera.pop(0)  # Remove the current position\n",
        "\n",
        "  def move(self):\n",
        "    if self.returning and self.path_to_papelera:\n",
        "      new_position = self.path_to_papelera.pop(0)\n",
        "      self.model.grid.move_agent(self, new_position)\n",
        "      if new_position == self.papeleraPos:\n",
        "        self.empty()\n",
        "    else:\n",
        "      options=self.model.grid.get_neighborhood(self.pos,moore = True, include_center=False)\n",
        "      valid_moves = []\n",
        "      for pos in options:\n",
        "        cell_contents = self.model.grid.get_cell_list_contents(pos)\n",
        "        if not any(isinstance(obj, (Obstaculo, AgenteRobot)) for obj in cell_contents):\n",
        "          valid_moves.append(pos)\n",
        "\n",
        "      if valid_moves:\n",
        "        new_position = random.choice(valid_moves)\n",
        "        self.model.grid.move_agent(self, new_position)\n",
        "\n",
        "  def step(self):\n",
        "    if self.carrying >= self.capacity:\n",
        "      if not self.returning:\n",
        "        self.returning = True\n",
        "        self.find_path_to_papelera()\n",
        "    if not self.returning:\n",
        "      self.clean()  # Collect trash in the current cell\n",
        "    self.move()   # Move to a new cell or towards the papelera"
      ]
    },
    {
      "cell_type": "code",
      "execution_count": null,
      "metadata": {
        "id": "kge2danIThAW"
      },
      "outputs": [],
      "source": [
        "#Nombre: getGrid\n",
        "#Parametros: un model.\n",
        "#Return: Nada\n",
        "#Se encarga de crear una representación visual del estado actual de la cuadrícula en el modelo\n",
        "def getGrid(model):\n",
        "    grid = np.zeros((model.grid.width, model.grid.height))\n",
        "    for x in range(model.grid.width):\n",
        "        for y in range(model.grid.height):\n",
        "            if not model.grid.is_cell_empty((x, y)):\n",
        "                contents = model.grid.get_cell_list_contents((x, y))\n",
        "                if any(isinstance(agent, Basura) for agent in contents):\n",
        "                    grid[x][y] = 2  # Asignar 1 si hay una basura en la celda\n",
        "                elif any(isinstance(agent, AgenteRobot) for agent in contents):\n",
        "                    grid[x][y] = 4  # Asignar 2 si hay un agente robot en la celda\n",
        "                elif any(isinstance(agent, Obstaculo) for agent in contents):\n",
        "                    grid[x][y] = 1  # Asignar 3 si hay un agente obstaculo en la celda\n",
        "                elif any(isinstance(agent, Papelera) for agent in contents):\n",
        "                    grid[x][y] = 3  # Asignar 5 si hay un agente papelera en la celda\n",
        "            else:\n",
        "                grid[x][y] = 0  # Celda vacía\n",
        "    return grid"
      ]
    },
    {
      "cell_type": "code",
      "execution_count": null,
      "metadata": {
        "id": "-slOAqp_TmjE"
      },
      "outputs": [],
      "source": [
        "class Oficina(Model):\n",
        "  def __init__(self, width, height, num_agents = 5):\n",
        "    super().__init__()\n",
        "    self.cells = np.zeros((width, height))\n",
        "    self.num_agents = num_agents\n",
        "    self.grid = MultiGrid(width, height, False)\n",
        "    self.schedule = RandomActivation(self)\n",
        "    self.dataCollector = DataCollector(model_reporters = {\"Grid\" : getGrid })\n",
        "    self.currentStep = 0\n",
        "    self.numBasuraTotal = 0\n",
        "\n",
        "    ObstaculoId =0\n",
        "    BasuraId = 0\n",
        "    for i in range(alto):\n",
        "      for j in range(ancho):\n",
        "        if oficina[i][j] == 'X':\n",
        "          NewObstaculo = Obstaculo(ObstaculoId, self)\n",
        "          self.grid.place_agent(NewObstaculo, (i, j))\n",
        "          ObstaculoId += 1\n",
        "        elif oficina[i][j] == 'P':\n",
        "          NewPapelera = Papelera(1, self)\n",
        "          self.grid.place_agent(NewPapelera, (i, j))\n",
        "          print(f'La papelera fue colocada en: {(i,j)} y su ubicacion correcta es: {papelera_pos}')\n",
        "        elif oficina[i][j].isdigit():\n",
        "          num = int(oficina[i][j])  # Cantidad de basura\n",
        "          for _ in range(num):\n",
        "            NewBasura = Basura(BasuraId, self, num)\n",
        "            self.grid.place_agent(NewBasura, (i, j))\n",
        "            BasuraId += 1\n",
        "            self.numBasuraTotal += 1\n",
        "          print(f'Basura colocada en: {(i,j)} con una cantidad de: {num}')\n",
        "\n",
        "    for i in range(self.num_agents):\n",
        "      empty_positions = self.grid.empties\n",
        "      if empty_positions:\n",
        "        position = self.random.choice(list(empty_positions))\n",
        "        agent = AgenteRobot(i, self)\n",
        "        self.grid.place_agent(agent, position)\n",
        "        self.schedule.add(agent)\n",
        "\n",
        "  def allCellClean(self):\n",
        "    basuraRestante = sum(isinstance(agent, Basura) for agent in self.schedule.agents)\n",
        "    print(f'Basura restaste es: {basuraRestante}')\n",
        "    if (self.numBasuraTotal - basuraRestante) == 0:\n",
        "      return True\n",
        "\n",
        "  def step(self):\n",
        "    self.dataCollector.collect(self)\n",
        "    self.schedule.step()\n",
        "    self.currentStep += 1\n"
      ]
    },
    {
      "cell_type": "code",
      "execution_count": null,
      "metadata": {
        "id": "MnpU2KbCb3SX"
      },
      "outputs": [],
      "source": [
        "#Se encarga de llevar acabo las iteraciones, es decir el step, es donde se lleva acabo la simlacion\n",
        "\n",
        "\n",
        "MAX_ITER = 600\n",
        "\n",
        "AGENT_NUM = 5\n",
        "\n",
        "startTime = time.time()\n",
        "\n",
        "model = Oficina(alto, ancho, AGENT_NUM)\n",
        "\n",
        "i=1\n",
        "while i < MAX_ITER and not model.allCellClean():\n",
        "  model.step()\n",
        "  i = i + 1"
      ]
    },
    {
      "cell_type": "code",
      "execution_count": null,
      "metadata": {
        "id": "USDTCOtbcAkW"
      },
      "outputs": [],
      "source": [
        "#Obtenemos la informacion requerida para el analsis.\n",
        "all_grid = model.dataCollector.get_model_vars_dataframe()\n",
        "all_grid.describe()"
      ]
    },
    {
      "cell_type": "code",
      "execution_count": null,
      "metadata": {
        "id": "fm8grjOUcDUT"
      },
      "outputs": [],
      "source": [
        "#Obtenemos la informacion en cada step y la graficamos para despues juntarla en una animacion\n",
        "fig, axs=plt.subplots(figsize=(4,4))\n",
        "axs.set_xticks([])\n",
        "axs.set_yticks([])\n",
        "\n",
        "if not all_grid.empty:\n",
        "  print(\"hell yeah\")\n",
        "  patch = plt.imshow(all_grid.iloc[0][0], cmap='viridis')\n",
        "else:\n",
        "  print(\"no :C\")\n",
        "  patch = plt.imshow(np.zeros((model.grid.width, model.grid.height)), cmap='viridis')\n",
        "\n",
        "def animate(i):\n",
        "  if i < len(all_grid):\n",
        "    patch.set_data(all_grid.iloc[i][0])\n",
        "  else:\n",
        "    patch.set_data(all_grid.iloc[-1][0])  # Muestra el último estado disponible\n",
        "\n",
        "anim = animation.FuncAnimation(fig, animate, frames=MAX_ITER, repeat=False)\n",
        "plt.show()\n",
        "\n",
        "#Azul ossuro tirando a morado: Obstaculos\n",
        "#Azul turquesa (Azul claro): Basura\n",
        "# Verde. Papelera\n",
        "# Morado: Celda vacia\n",
        "#Amarillo: Agente robot"
      ]
    },
    {
      "cell_type": "code",
      "execution_count": null,
      "metadata": {
        "id": "JpLrJ9xwcGg0"
      },
      "outputs": [],
      "source": [
        "#Llamamos la animacion\n",
        "anim"
      ]
    }
  ],
  "metadata": {
    "colab": {
      "provenance": [],
      "include_colab_link": true
    },
    "kernelspec": {
      "display_name": "Python 3",
      "name": "python3"
    },
    "language_info": {
      "name": "python"
    }
  },
  "nbformat": 4,
  "nbformat_minor": 0
}